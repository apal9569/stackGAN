{
  "nbformat": 4,
  "nbformat_minor": 0,
  "metadata": {
    "colab": {
      "name": "stackGAN_stage1.ipynb",
      "version": "0.3.2",
      "provenance": [],
      "include_colab_link": true
    },
    "kernelspec": {
      "name": "python3",
      "display_name": "Python 3"
    },
    "accelerator": "GPU"
  },
  "cells": [
    {
      "cell_type": "markdown",
      "metadata": {
        "id": "view-in-github",
        "colab_type": "text"
      },
      "source": [
        "<a href=\"https://colab.research.google.com/github/apal9569/stackGAN/blob/master/stackGAN_stage1.ipynb\" target=\"_parent\"><img src=\"https://colab.research.google.com/assets/colab-badge.svg\" alt=\"Open In Colab\"/></a>"
      ]
    },
    {
      "cell_type": "code",
      "metadata": {
        "id": "aVM6jM4ERV7s",
        "colab_type": "code",
        "outputId": "3814f66d-00da-4cc1-d77f-21ace4043fc6",
        "colab": {
          "base_uri": "https://localhost:8080/",
          "height": 204
        }
      },
      "source": [
        "!wget http://www.vision.caltech.edu/visipedia-data/CUB-200-2011/CUB_200_2011.tgz"
      ],
      "execution_count": 0,
      "outputs": [
        {
          "output_type": "stream",
          "text": [
            "--2019-07-21 16:06:41--  http://www.vision.caltech.edu/visipedia-data/CUB-200-2011/CUB_200_2011.tgz\n",
            "Resolving www.vision.caltech.edu (www.vision.caltech.edu)... 34.208.54.77\n",
            "Connecting to www.vision.caltech.edu (www.vision.caltech.edu)|34.208.54.77|:80... connected.\n",
            "HTTP request sent, awaiting response... 200 OK\n",
            "Length: 1150585339 (1.1G) [application/x-tar]\n",
            "Saving to: ‘CUB_200_2011.tgz’\n",
            "\n",
            "CUB_200_2011.tgz    100%[===================>]   1.07G  15.6MB/s    in 2m 17s  \n",
            "\n",
            "2019-07-21 16:08:58 (8.02 MB/s) - ‘CUB_200_2011.tgz’ saved [1150585339/1150585339]\n",
            "\n"
          ],
          "name": "stdout"
        }
      ]
    },
    {
      "cell_type": "code",
      "metadata": {
        "id": "K3DaaA2vRz58",
        "colab_type": "code",
        "outputId": "94753399-4430-4621-84b8-031430060e76",
        "colab": {
          "base_uri": "https://localhost:8080/",
          "height": 124
        }
      },
      "source": [
        "from google.colab import drive\n",
        "drive.mount('/content/drive')"
      ],
      "execution_count": 0,
      "outputs": [
        {
          "output_type": "stream",
          "text": [
            "Go to this URL in a browser: https://accounts.google.com/o/oauth2/auth?client_id=947318989803-6bn6qk8qdgf4n4g3pfee6491hc0brc4i.apps.googleusercontent.com&redirect_uri=urn%3Aietf%3Awg%3Aoauth%3A2.0%3Aoob&scope=email%20https%3A%2F%2Fwww.googleapis.com%2Fauth%2Fdocs.test%20https%3A%2F%2Fwww.googleapis.com%2Fauth%2Fdrive%20https%3A%2F%2Fwww.googleapis.com%2Fauth%2Fdrive.photos.readonly%20https%3A%2F%2Fwww.googleapis.com%2Fauth%2Fpeopleapi.readonly&response_type=code\n",
            "\n",
            "Enter your authorization code:\n",
            "··········\n",
            "Mounted at /content/drive\n"
          ],
          "name": "stdout"
        }
      ]
    },
    {
      "cell_type": "code",
      "metadata": {
        "id": "5Kyxa7bURpzS",
        "colab_type": "code",
        "outputId": "248a248d-7ac4-4054-9837-43662044da96",
        "colab": {
          "base_uri": "https://localhost:8080/",
          "height": 34
        }
      },
      "source": [
        "cd drive/My Drive"
      ],
      "execution_count": 0,
      "outputs": [
        {
          "output_type": "stream",
          "text": [
            "/content/drive/My Drive\n"
          ],
          "name": "stdout"
        }
      ]
    },
    {
      "cell_type": "code",
      "metadata": {
        "id": "ylNPueLsSDcq",
        "colab_type": "code",
        "outputId": "fc00d89c-0d3f-4ceb-9f04-533142effde1",
        "colab": {
          "base_uri": "https://localhost:8080/",
          "height": 34
        }
      },
      "source": [
        "!mkdir intern_stackGAN"
      ],
      "execution_count": 0,
      "outputs": [
        {
          "output_type": "stream",
          "text": [
            "mkdir: cannot create directory ‘intern_stackGAN’: File exists\n"
          ],
          "name": "stdout"
        }
      ]
    },
    {
      "cell_type": "code",
      "metadata": {
        "id": "GeE97qfTSLbB",
        "colab_type": "code",
        "outputId": "8a9257a3-5f99-4492-e0cf-c843a96dd007",
        "colab": {
          "base_uri": "https://localhost:8080/",
          "height": 34
        }
      },
      "source": [
        "cd intern_stackGAN"
      ],
      "execution_count": 0,
      "outputs": [
        {
          "output_type": "stream",
          "text": [
            "/content/drive/My Drive/intern_stackGAN\n"
          ],
          "name": "stdout"
        }
      ]
    },
    {
      "cell_type": "code",
      "metadata": {
        "id": "2kyfx9aKSOlb",
        "colab_type": "code",
        "outputId": "793d7ebc-c5c5-45e0-a16e-0374b731f38b",
        "colab": {
          "base_uri": "https://localhost:8080/",
          "height": 153
        }
      },
      "source": [
        "!apt-get install p7zip-full"
      ],
      "execution_count": 0,
      "outputs": [
        {
          "output_type": "stream",
          "text": [
            "Reading package lists... Done\n",
            "Building dependency tree       \n",
            "Reading state information... Done\n",
            "p7zip-full is already the newest version (16.02+dfsg-6).\n",
            "The following package was automatically installed and is no longer required:\n",
            "  libnvidia-common-410\n",
            "Use 'apt autoremove' to remove it.\n",
            "0 upgraded, 0 newly installed, 0 to remove and 4 not upgraded.\n"
          ],
          "name": "stdout"
        }
      ]
    },
    {
      "cell_type": "code",
      "metadata": {
        "id": "JhAUJ3ccTpAO",
        "colab_type": "code",
        "colab": {}
      },
      "source": [
        "!tar -xvf CUB_200_2011.tgz"
      ],
      "execution_count": 0,
      "outputs": []
    },
    {
      "cell_type": "code",
      "metadata": {
        "id": "36psHCMsTzvn",
        "colab_type": "code",
        "outputId": "c6628d5c-5a1c-4dd2-a163-67374775f735",
        "colab": {
          "base_uri": "https://localhost:8080/",
          "height": 272
        }
      },
      "source": [
        "!wget https://drive.google.com/open?id=0B3y_msrWZaXLT1BZdVdycDY5TEE&source=post_page---------------------------"
      ],
      "execution_count": 0,
      "outputs": [
        {
          "output_type": "stream",
          "text": [
            "--2019-07-21 16:23:33--  https://drive.google.com/open?id=0B3y_msrWZaXLT1BZdVdycDY5TEE\n",
            "Resolving drive.google.com (drive.google.com)... 74.125.23.101, 74.125.23.139, 74.125.23.138, ...\n",
            "Connecting to drive.google.com (drive.google.com)|74.125.23.101|:443... connected.\n",
            "HTTP request sent, awaiting response... 307 OK\n",
            "Location: https://drive.google.com/file/d/0B3y_msrWZaXLT1BZdVdycDY5TEE/view?usp=drive_open [following]\n",
            "--2019-07-21 16:23:34--  https://drive.google.com/file/d/0B3y_msrWZaXLT1BZdVdycDY5TEE/view?usp=drive_open\n",
            "Reusing existing connection to drive.google.com:443.\n",
            "HTTP request sent, awaiting response... 200 OK\n",
            "Length: unspecified [text/html]\n",
            "Saving to: ‘open?id=0B3y_msrWZaXLT1BZdVdycDY5TEE’\n",
            "\n",
            "\r          open?id=0     [<=>                 ]       0  --.-KB/s               \ropen?id=0B3y_msrWZa     [ <=>                ] 119.86K   728KB/s    in 0.2s    \n",
            "\n",
            "2019-07-21 16:23:34 (728 KB/s) - ‘open?id=0B3y_msrWZaXLT1BZdVdycDY5TEE’ saved [122733]\n",
            "\n"
          ],
          "name": "stdout"
        }
      ]
    },
    {
      "cell_type": "code",
      "metadata": {
        "id": "wAlw8OoFWHPh",
        "colab_type": "code",
        "outputId": "5a556fd4-fb52-4731-f2a1-cc827f5e6085",
        "colab": {
          "base_uri": "https://localhost:8080/",
          "height": 34
        }
      },
      "source": [
        "!ls"
      ],
      "execution_count": 0,
      "outputs": [
        {
          "output_type": "stream",
          "text": [
            "attributes.txt\tbirds.zip  CUB_200_2011\n"
          ],
          "name": "stdout"
        }
      ]
    },
    {
      "cell_type": "code",
      "metadata": {
        "id": "J4acTgN3WKDS",
        "colab_type": "code",
        "colab": {}
      },
      "source": [
        "!unzip birds.zip"
      ],
      "execution_count": 0,
      "outputs": []
    },
    {
      "cell_type": "code",
      "metadata": {
        "id": "3Jp_vIqvLdtU",
        "colab_type": "code",
        "colab": {}
      },
      "source": [
        "import pickle\n",
        "import numpy as np\n",
        "import pandas as pd\n",
        "from PIL import Image\n",
        "import PIL"
      ],
      "execution_count": 0,
      "outputs": []
    },
    {
      "cell_type": "code",
      "metadata": {
        "id": "Tadz6iOfRd-5",
        "colab_type": "code",
        "colab": {}
      },
      "source": [
        "train_dir=\"birds/train/\"\n",
        "test_dir=\"birds/test/\""
      ],
      "execution_count": 0,
      "outputs": []
    },
    {
      "cell_type": "code",
      "metadata": {
        "id": "Tbz2pyXzJ0pD",
        "colab_type": "code",
        "colab": {}
      },
      "source": [
        "train_embedd_path=train_dir+\"char-CNN-RNN-embeddings.pickle\"\n",
        "test_embedd_path=test_dir+\"char-CNN-RNN-embeddings.pickle\""
      ],
      "execution_count": 0,
      "outputs": []
    },
    {
      "cell_type": "code",
      "metadata": {
        "id": "cAf4Nn8UKZfi",
        "colab_type": "code",
        "colab": {}
      },
      "source": [
        "def embeddings(path):\n",
        "  with open(path, 'rb') as f:\n",
        "        embedd = pickle.load(f, encoding='latin1')\n",
        "        embedd = np.array(embedd)\n",
        "        print('embeddings: ', embedd.shape)\n",
        "  return embedd"
      ],
      "execution_count": 0,
      "outputs": []
    },
    {
      "cell_type": "code",
      "metadata": {
        "id": "mCk-guz2LHBn",
        "colab_type": "code",
        "outputId": "411c6c54-abc8-44ea-c498-c68cb4ac103e",
        "colab": {
          "base_uri": "https://localhost:8080/",
          "height": 52
        }
      },
      "source": [
        "train_embedd=embeddings(train_embedd_path)\n",
        "test_embedd=embeddings(test_embedd_path)"
      ],
      "execution_count": 0,
      "outputs": [
        {
          "output_type": "stream",
          "text": [
            "embeddings:  (8855, 10, 1024)\n",
            "embeddings:  (2933, 10, 1024)\n"
          ],
          "name": "stdout"
        }
      ]
    },
    {
      "cell_type": "code",
      "metadata": {
        "id": "ugOdRNAMLbUm",
        "colab_type": "code",
        "colab": {}
      },
      "source": [
        "train_file_path=train_dir+\"filenames.pickle\"\n",
        "test_file_path=test_dir+\"filenames.pickle\""
      ],
      "execution_count": 0,
      "outputs": []
    },
    {
      "cell_type": "code",
      "metadata": {
        "id": "a0FSENZGLsD2",
        "colab_type": "code",
        "colab": {}
      },
      "source": [
        "def files(path):\n",
        "  with open(path,'rb') as f:\n",
        "    file=pickle.load(f,encoding='latin1')\n",
        "  return file"
      ],
      "execution_count": 0,
      "outputs": []
    },
    {
      "cell_type": "code",
      "metadata": {
        "id": "a0qed_6zMmjj",
        "colab_type": "code",
        "colab": {}
      },
      "source": [
        "train_file=files(train_file_path)\n",
        "test_file=files(test_file_path)"
      ],
      "execution_count": 0,
      "outputs": []
    },
    {
      "cell_type": "code",
      "metadata": {
        "id": "p7GWB0k9M3Jh",
        "colab_type": "code",
        "colab": {}
      },
      "source": [
        "bounding_box_path=\"CUB_200_2011/bounding_boxes.txt\"\n",
        "images_path=\"CUB_200_2011/images.txt\""
      ],
      "execution_count": 0,
      "outputs": []
    },
    {
      "cell_type": "code",
      "metadata": {
        "id": "x1P6zmMGPL1v",
        "colab_type": "code",
        "colab": {}
      },
      "source": [
        "def bounding(box_path,image_path):\n",
        "  bounding=pd.read_csv(box_path,header=None,delim_whitespace=True).astype('int32')\n",
        "  images=pd.read_csv(image_path,header=None,delim_whitespace=True)\n",
        "  files=images[1]\n",
        "  boundingbox= {img_file[:-4]: [] for img_file in files[:1]}\n",
        "\n",
        "  for i in range(0, len(files)):\n",
        "      bounding_box = bounding.iloc[i][1:].tolist()\n",
        "      key = files[i][:-4]\n",
        "      boundingbox[key] = bounding_box\n",
        "\n",
        "  return filename_boundingbox_dict"
      ],
      "execution_count": 0,
      "outputs": []
    },
    {
      "cell_type": "code",
      "metadata": {
        "id": "Ojklr0JLP25V",
        "colab_type": "code",
        "colab": {}
      },
      "source": [
        "boundingbox=bounding(bounding_box_path,images_path)"
      ],
      "execution_count": 0,
      "outputs": []
    },
    {
      "cell_type": "code",
      "metadata": {
        "id": "3Q2zjT3iR1dE",
        "colab_type": "code",
        "colab": {}
      },
      "source": [
        "train_classid=train_dir+\"class_info.pickle\"\n",
        "test_classid=test_dir+\"class_info.pickle\""
      ],
      "execution_count": 0,
      "outputs": []
    },
    {
      "cell_type": "code",
      "metadata": {
        "id": "INAYHG88TOEt",
        "colab_type": "code",
        "colab": {}
      },
      "source": [
        "def image_ids(path):\n",
        "  with open(path,'rb') as f:\n",
        "    ids=pickle.load(f,encoding='latin1')\n",
        "  return ids"
      ],
      "execution_count": 0,
      "outputs": []
    },
    {
      "cell_type": "code",
      "metadata": {
        "id": "EQzScCDwTk5a",
        "colab_type": "code",
        "colab": {}
      },
      "source": [
        "train_id=image_ids(train_classid)\n",
        "test_id=image_ids(test_classid)"
      ],
      "execution_count": 0,
      "outputs": []
    },
    {
      "cell_type": "code",
      "metadata": {
        "id": "z5tuMCgeTwJK",
        "colab_type": "code",
        "colab": {}
      },
      "source": [
        "def images(file,box):\n",
        "  img = Image.open(file).convert('RGB')\n",
        "  width, height = img.size\n",
        "  image_size=64\n",
        "  R = int(np.maximum(box[2], box[3]) * 0.75)\n",
        "  x = int((2 * box[0] + box[2]) / 2)\n",
        "  y = int((2 * box[1] + box[3]) / 2)\n",
        "  img = img.crop([x-R, y-R, x+R, y+R])\n",
        "  img = img.resize((64,64),Image.BILINEAR)\n",
        "  return img"
      ],
      "execution_count": 0,
      "outputs": []
    },
    {
      "cell_type": "code",
      "metadata": {
        "id": "V5_U1qN-WnaQ",
        "colab_type": "code",
        "colab": {}
      },
      "source": [
        "def mappings(file,box,embedding,ids):\n",
        "  imgs, imgs_id, embeddings = [], [], []\n",
        "\n",
        "  for index, filename in enumerate(file):\n",
        "        \n",
        "    boxes = box[filename]\n",
        "      \n",
        "    img_name = '{}/images/{}.jpg'.format(\"CUB_200_2011\", filename)\n",
        "    img = images(img_name, boxes)\n",
        "\n",
        "    embeddings1 = embedding[index, :, :]\n",
        "\n",
        "    embedding_ix = np.random.randint(0, embeddings1.shape[0] - 1)\n",
        "    embedd = embeddings1[embedding_ix, :]\n",
        "        \n",
        "    imgs.append(np.array(img))\n",
        "    imgs_id.append(ids[index])\n",
        "    embeddings.append(embedd)\n",
        "      \n",
        "  imgs = np.array(imgs)\n",
        "  imgs_id = np.array(imgs_id)\n",
        "  embeddings = np.array(embeddings)\n",
        "  return imgs, imgs_id, embeddings"
      ],
      "execution_count": 0,
      "outputs": []
    },
    {
      "cell_type": "code",
      "metadata": {
        "id": "hdfzxiRoYb1z",
        "colab_type": "code",
        "colab": {}
      },
      "source": [
        "train_imgs,train_imgs_id,train_embedd=mappings(train_file,boundingbox,train_embedd,train_id)\n",
        "test_imgs,test_imgs_id,test_embedd=mappings(test_file,boundingbox,test_embedd,test_id)"
      ],
      "execution_count": 0,
      "outputs": []
    },
    {
      "cell_type": "code",
      "metadata": {
        "id": "eoVkTC-XZVNw",
        "colab_type": "code",
        "outputId": "82b327b0-f278-466a-e5e5-92ee0a531e1f",
        "colab": {
          "base_uri": "https://localhost:8080/",
          "height": 286
        }
      },
      "source": [
        "import matplotlib.pyplot as plt\n",
        "plt.imshow(train_imgs[1000])\n",
        "train_embedd.shape"
      ],
      "execution_count": 0,
      "outputs": [
        {
          "output_type": "execute_result",
          "data": {
            "text/plain": [
              "(8855, 1024)"
            ]
          },
          "metadata": {
            "tags": []
          },
          "execution_count": 21
        },
        {
          "output_type": "display_data",
          "data": {
            "image/png": "[encoded data removed]",
            "text/plain": [
              "<Figure size 432x288 with 1 Axes>"
            ]
          },
          "metadata": {
            "tags": []
          }
        }
      ]
    },
    {
      "cell_type": "code",
      "metadata": {
        "id": "nC8fUPzJsmzQ",
        "colab_type": "code",
        "outputId": "70a39864-55ff-4029-8424-cc453dec4653",
        "colab": {
          "base_uri": "https://localhost:8080/",
          "height": 34
        }
      },
      "source": [
        "import keras\n",
        "import os\n",
        "import matplotlib.pyplot as plt\n",
        "from keras import layers\n",
        "from keras.layers import *\n",
        "from keras.models import Model\n",
        "from keras.preprocessing.image import load_img,img_to_array\n",
        "from keras.preprocessing.text import Tokenizer\n",
        "from keras.preprocessing.sequence import pad_sequences\n",
        "from keras.utils import to_categorical\n",
        "from keras.optimizers import RMSprop\n",
        "from keras import backend as K\n",
        "from keras.models import *"
      ],
      "execution_count": 0,
      "outputs": [
        {
          "output_type": "stream",
          "text": [
            "Using TensorFlow backend.\n"
          ],
          "name": "stderr"
        }
      ]
    },
    {
      "cell_type": "code",
      "metadata": {
        "id": "PzUHIJoapKsU",
        "colab_type": "code",
        "colab": {}
      },
      "source": [
        "def generator1():\n",
        "  input1=Input(shape=(1024,))\n",
        "  x=Dense(256)(input1)\n",
        "  x=LeakyReLU()(x)\n",
        "  c=Lambda(gene_c)(x)\n",
        "  \n",
        "  input2=Input(shape=(100,))\n",
        "  \n",
        "  x=concatenate([c,input2])\n",
        "  \n",
        "  x = Dense(128 * 8 * 4 * 4, use_bias=False)(x)\n",
        "  x = ReLU()(x)\n",
        "\n",
        "  x = Reshape((4, 4, 128 * 8), input_shape=(128 * 8 * 4 * 4,))(x)\n",
        "\n",
        "  x = Conv2DTranspose(512, kernel_size=3,strides=2, padding=\"same\", use_bias=False)(x)\n",
        "  x = BatchNormalization()(x)\n",
        "  x = ReLU()(x)\n",
        "\n",
        "  x = Conv2DTranspose(256, kernel_size=3,strides=2 ,padding=\"same\", use_bias=False)(x)\n",
        "  x = BatchNormalization()(x)\n",
        "  x = ReLU()(x)\n",
        "  x = Conv2DTranspose(128, kernel_size=3,strides=2 ,padding=\"same\", use_bias=False)(x)\n",
        "  x = BatchNormalization()(x)\n",
        "  x = ReLU()(x)\n",
        "\n",
        "  x = Conv2DTranspose(64, kernel_size=3, strides=2,padding=\"same\", use_bias=False)(x)\n",
        "  x = BatchNormalization()(x)\n",
        "  x = ReLU()(x)\n",
        "\n",
        "  x = Conv2D(3, kernel_size=3, padding=\"same\", strides=1, use_bias=False)(x)\n",
        "  out = Activation(activation='tanh')(x)\n",
        "  print(out.shape)\n",
        "  model = Model(inputs=[input1, input2], outputs=[out,c])\n",
        "  return model"
      ],
      "execution_count": 0,
      "outputs": []
    },
    {
      "cell_type": "code",
      "metadata": {
        "id": "XrnzTGZGskBh",
        "colab_type": "code",
        "colab": {}
      },
      "source": [
        "def gene_c(layer):\n",
        "  mean = layer[:,:128]\n",
        "  log_sigma = layer[:, 128:]\n",
        "  stddev = K.exp(log_sigma)\n",
        "  epsilon = K.random_normal(shape=K.constant((mean.shape[1],), dtype='int32'))\n",
        "  c = stddev*epsilon+mean\n",
        "  return c"
      ],
      "execution_count": 0,
      "outputs": []
    },
    {
      "cell_type": "code",
      "metadata": {
        "id": "tP11xqbFtGe5",
        "colab_type": "code",
        "colab": {}
      },
      "source": [
        "def embedd_generator():\n",
        "  inp=Input(shape=(1024,))\n",
        "  x=Dense(256)(inp)\n",
        "  x=LeakyReLU()(x)\n",
        "  \n",
        "  model=Model(inputs=inp,outputs=x)\n",
        "  return model"
      ],
      "execution_count": 0,
      "outputs": []
    },
    {
      "cell_type": "code",
      "metadata": {
        "id": "mj4DPCZ6toao",
        "colab_type": "code",
        "colab": {}
      },
      "source": [
        "def embedd_discriminator():\n",
        "  inp=Input(shape=(1024,))\n",
        "  x=Dense(128)(inp)\n",
        "  out=LeakyReLU()(x)\n",
        "  \n",
        "  model=Model(inputs=inp,outputs=out)\n",
        "  return model"
      ],
      "execution_count": 0,
      "outputs": []
    },
    {
      "cell_type": "code",
      "metadata": {
        "id": "LYklh1gMt9Ms",
        "colab_type": "code",
        "colab": {}
      },
      "source": [
        "def discriminator1():\n",
        "  input1 = Input(shape=(64, 64, 3))\n",
        "\n",
        "  x = Conv2D(64, (4, 4),padding='same', strides=2,input_shape=(64, 64, 3))(input1)\n",
        "  x = LeakyReLU(alpha=0.2)(x)\n",
        "\n",
        "  x = Conv2D(128, (4, 4), padding='same', strides=2, use_bias=False)(x)\n",
        "  x = BatchNormalization()(x)\n",
        "  x = LeakyReLU(alpha=0.2)(x)\n",
        "\n",
        "  x = Conv2D(256, (4, 4), padding='same', strides=2, use_bias=False)(x)\n",
        "  x = BatchNormalization()(x)\n",
        "  x = LeakyReLU(alpha=0.2)(x)\n",
        "\n",
        "  x = Conv2D(512, (4, 4), padding='same', strides=2, use_bias=False)(x)\n",
        "  x = BatchNormalization()(x)\n",
        "  x = LeakyReLU(alpha=0.2)(x)\n",
        "\n",
        "  input2 = Input(shape=(4, 4, 128))\n",
        "  concat_input = concatenate([x, input2])\n",
        "  x = Conv2D(64 * 8, kernel_size=1,padding=\"same\", strides=1)(concat_input)\n",
        "  x = BatchNormalization()(x)\n",
        "  x = LeakyReLU(alpha=0.2)(x)\n",
        "  x = Flatten()(x)\n",
        "  x = Dense(1)(x)\n",
        "  out = Activation('sigmoid')(x)\n",
        "\n",
        "  model = Model(inputs=[input1, input2], outputs=out)\n",
        "  return model"
      ],
      "execution_count": 0,
      "outputs": []
    },
    {
      "cell_type": "code",
      "metadata": {
        "id": "4U_WkQNxvOHb",
        "colab_type": "code",
        "colab": {}
      },
      "source": [
        "def complete():\n",
        "  input1=Input(shape=(1024,))\n",
        "  input2=Input(shape=(100,))\n",
        "  input3=Input(shape=(4,4,128))\n",
        "  \n",
        "  gen=generator1()\n",
        "  out1,c=gen([input1,input2])\n",
        "  gen.compile(loss='mse',optimizer='RMSprop',metrics=['mae'])\n",
        "  \n",
        "  disc=discriminator1()\n",
        "  disc.trainable = False \n",
        "  disc.compile(loss='binary_crossentropy',optimizer='RMSprop',metrics=['mae'])\n",
        "  out2=disc([out1,input3])\n",
        "  \n",
        "  model=Model(inputs=[input1,input2,input3],outputs=[c,out2])\n",
        "  \n",
        "  return disc,gen,model"
      ],
      "execution_count": 0,
      "outputs": []
    },
    {
      "cell_type": "code",
      "metadata": {
        "id": "jDV3985nxWLf",
        "colab_type": "code",
        "colab": {}
      },
      "source": [
        "def KL_loss(y_true, y_pred):\n",
        "    mean = y_pred[:, :128]\n",
        "    logsigma = y_pred[:, :128]\n",
        "    loss = -logsigma + .5 * (-1 + K.exp(2. * logsigma) + K.square(mean))\n",
        "    loss = K.mean(loss)\n",
        "    return loss\n"
      ],
      "execution_count": 0,
      "outputs": []
    },
    {
      "cell_type": "code",
      "metadata": {
        "id": "bKWcB3rwxbpa",
        "colab_type": "code",
        "colab": {}
      },
      "source": [
        "def custom_generator_loss(y_true, y_pred):\n",
        "    return K.binary_crossentropy(y_true, y_pred)"
      ],
      "execution_count": 0,
      "outputs": []
    },
    {
      "cell_type": "code",
      "metadata": {
        "id": "IRB7Membx4FC",
        "colab_type": "code",
        "outputId": "337ad8af-8672-4e16-d7a4-f1d6474e7dfc",
        "colab": {
          "base_uri": "https://localhost:8080/",
          "height": 106
        }
      },
      "source": [
        "embedd_gen = embedd_generator()\n",
        "embedd_gen.compile(loss=\"binary_crossentropy\", optimizer=\"adam\")\n",
        "\n",
        "embedd_disc = embedd_discriminator()\n",
        "embedd_disc.compile(loss=\"binary_crossentropy\", optimizer=\"adam\")\n",
        "\n",
        "Disc, Gen, GAN = complete()\n",
        "GAN.compile(loss=['binary_crossentropy', KL_loss], loss_weights=[1, 2.0],\n",
        "                              optimizer='RMSprop', metrics=None)\n"
      ],
      "execution_count": 0,
      "outputs": [
        {
          "output_type": "stream",
          "text": [
            "W0728 11:10:29.228870 140398772721536 deprecation.py:323] From /usr/local/lib/python3.6/dist-packages/tensorflow/python/ops/nn_impl.py:180: add_dispatch_support.<locals>.wrapper (from tensorflow.python.ops.array_ops) is deprecated and will be removed in a future version.\n",
            "Instructions for updating:\n",
            "Use tf.where in 2.0, which has the same broadcast rule as np.where\n"
          ],
          "name": "stderr"
        },
        {
          "output_type": "stream",
          "text": [
            "(?, ?, ?, 3)\n"
          ],
          "name": "stdout"
        }
      ]
    },
    {
      "cell_type": "code",
      "metadata": {
        "id": "82w4CWCUzMCF",
        "colab_type": "code",
        "outputId": "33c73acd-bf87-4197-eea8-c06a66970183",
        "colab": {
          "base_uri": "https://localhost:8080/",
          "height": 1000
        }
      },
      "source": [
        "Disc.summary(),Gen.summary(),GAN.summary()"
      ],
      "execution_count": 0,
      "outputs": [
        {
          "output_type": "stream",
          "text": [
            "__________________________________________________________________________________________________\n",
            "Layer (type)                    Output Shape         Param #     Connected to                     \n",
            "==================================================================================================\n",
            "input_8 (InputLayer)            (None, 64, 64, 3)    0                                            \n",
            "__________________________________________________________________________________________________\n",
            "conv2d_2 (Conv2D)               (None, 32, 32, 64)   3136        input_8[0][0]                    \n",
            "__________________________________________________________________________________________________\n",
            "leaky_re_lu_4 (LeakyReLU)       (None, 32, 32, 64)   0           conv2d_2[0][0]                   \n",
            "__________________________________________________________________________________________________\n",
            "conv2d_3 (Conv2D)               (None, 16, 16, 128)  131072      leaky_re_lu_4[0][0]              \n",
            "__________________________________________________________________________________________________\n",
            "batch_normalization_5 (BatchNor (None, 16, 16, 128)  512         conv2d_3[0][0]                   \n",
            "__________________________________________________________________________________________________\n",
            "leaky_re_lu_5 (LeakyReLU)       (None, 16, 16, 128)  0           batch_normalization_5[0][0]      \n",
            "__________________________________________________________________________________________________\n",
            "conv2d_4 (Conv2D)               (None, 8, 8, 256)    524288      leaky_re_lu_5[0][0]              \n",
            "__________________________________________________________________________________________________\n",
            "batch_normalization_6 (BatchNor (None, 8, 8, 256)    1024        conv2d_4[0][0]                   \n",
            "__________________________________________________________________________________________________\n",
            "leaky_re_lu_6 (LeakyReLU)       (None, 8, 8, 256)    0           batch_normalization_6[0][0]      \n",
            "__________________________________________________________________________________________________\n",
            "conv2d_5 (Conv2D)               (None, 4, 4, 512)    2097152     leaky_re_lu_6[0][0]              \n",
            "__________________________________________________________________________________________________\n",
            "batch_normalization_7 (BatchNor (None, 4, 4, 512)    2048        conv2d_5[0][0]                   \n",
            "__________________________________________________________________________________________________\n",
            "leaky_re_lu_7 (LeakyReLU)       (None, 4, 4, 512)    0           batch_normalization_7[0][0]      \n",
            "__________________________________________________________________________________________________\n",
            "input_9 (InputLayer)            (None, 4, 4, 128)    0                                            \n",
            "__________________________________________________________________________________________________\n",
            "concatenate_2 (Concatenate)     (None, 4, 4, 640)    0           leaky_re_lu_7[0][0]              \n",
            "                                                                 input_9[0][0]                    \n",
            "__________________________________________________________________________________________________\n",
            "conv2d_6 (Conv2D)               (None, 4, 4, 512)    328192      concatenate_2[0][0]              \n",
            "__________________________________________________________________________________________________\n",
            "batch_normalization_8 (BatchNor (None, 4, 4, 512)    2048        conv2d_6[0][0]                   \n",
            "__________________________________________________________________________________________________\n",
            "leaky_re_lu_8 (LeakyReLU)       (None, 4, 4, 512)    0           batch_normalization_8[0][0]      \n",
            "__________________________________________________________________________________________________\n",
            "flatten_1 (Flatten)             (None, 8192)         0           leaky_re_lu_8[0][0]              \n",
            "__________________________________________________________________________________________________\n",
            "dense_5 (Dense)                 (None, 1)            8193        flatten_1[0][0]                  \n",
            "__________________________________________________________________________________________________\n",
            "activation_2 (Activation)       (None, 1)            0           dense_5[0][0]                    \n",
            "==================================================================================================\n",
            "Total params: 3,097,665\n",
            "Trainable params: 0\n",
            "Non-trainable params: 3,097,665\n",
            "__________________________________________________________________________________________________\n",
            "__________________________________________________________________________________________________\n",
            "Layer (type)                    Output Shape         Param #     Connected to                     \n",
            "==================================================================================================\n",
            "input_6 (InputLayer)            (None, 1024)         0                                            \n",
            "__________________________________________________________________________________________________\n",
            "dense_3 (Dense)                 (None, 256)          262400      input_6[0][0]                    \n",
            "__________________________________________________________________________________________________\n",
            "leaky_re_lu_3 (LeakyReLU)       (None, 256)          0           dense_3[0][0]                    \n",
            "__________________________________________________________________________________________________\n",
            "lambda_1 (Lambda)               (None, 128)          0           leaky_re_lu_3[0][0]              \n",
            "__________________________________________________________________________________________________\n",
            "input_7 (InputLayer)            (None, 100)          0                                            \n",
            "__________________________________________________________________________________________________\n",
            "concatenate_1 (Concatenate)     (None, 228)          0           lambda_1[0][0]                   \n",
            "                                                                 input_7[0][0]                    \n",
            "__________________________________________________________________________________________________\n",
            "dense_4 (Dense)                 (None, 16384)        3735552     concatenate_1[0][0]              \n",
            "__________________________________________________________________________________________________\n",
            "re_lu_1 (ReLU)                  (None, 16384)        0           dense_4[0][0]                    \n",
            "__________________________________________________________________________________________________\n",
            "reshape_1 (Reshape)             (None, 4, 4, 1024)   0           re_lu_1[0][0]                    \n",
            "__________________________________________________________________________________________________\n",
            "conv2d_transpose_1 (Conv2DTrans (None, 8, 8, 512)    4718592     reshape_1[0][0]                  \n",
            "__________________________________________________________________________________________________\n",
            "batch_normalization_1 (BatchNor (None, 8, 8, 512)    2048        conv2d_transpose_1[0][0]         \n",
            "__________________________________________________________________________________________________\n",
            "re_lu_2 (ReLU)                  (None, 8, 8, 512)    0           batch_normalization_1[0][0]      \n",
            "__________________________________________________________________________________________________\n",
            "conv2d_transpose_2 (Conv2DTrans (None, 16, 16, 256)  1179648     re_lu_2[0][0]                    \n",
            "__________________________________________________________________________________________________\n",
            "batch_normalization_2 (BatchNor (None, 16, 16, 256)  1024        conv2d_transpose_2[0][0]         \n",
            "__________________________________________________________________________________________________\n",
            "re_lu_3 (ReLU)                  (None, 16, 16, 256)  0           batch_normalization_2[0][0]      \n",
            "__________________________________________________________________________________________________\n",
            "conv2d_transpose_3 (Conv2DTrans (None, 32, 32, 128)  294912      re_lu_3[0][0]                    \n",
            "__________________________________________________________________________________________________\n",
            "batch_normalization_3 (BatchNor (None, 32, 32, 128)  512         conv2d_transpose_3[0][0]         \n",
            "__________________________________________________________________________________________________\n",
            "re_lu_4 (ReLU)                  (None, 32, 32, 128)  0           batch_normalization_3[0][0]      \n",
            "__________________________________________________________________________________________________\n",
            "conv2d_transpose_4 (Conv2DTrans (None, 64, 64, 64)   73728       re_lu_4[0][0]                    \n",
            "__________________________________________________________________________________________________\n",
            "batch_normalization_4 (BatchNor (None, 64, 64, 64)   256         conv2d_transpose_4[0][0]         \n",
            "__________________________________________________________________________________________________\n",
            "re_lu_5 (ReLU)                  (None, 64, 64, 64)   0           batch_normalization_4[0][0]      \n",
            "__________________________________________________________________________________________________\n",
            "conv2d_1 (Conv2D)               (None, 64, 64, 3)    1728        re_lu_5[0][0]                    \n",
            "__________________________________________________________________________________________________\n",
            "activation_1 (Activation)       (None, 64, 64, 3)    0           conv2d_1[0][0]                   \n",
            "==================================================================================================\n",
            "Total params: 10,270,400\n",
            "Trainable params: 10,268,480\n",
            "Non-trainable params: 1,920\n",
            "__________________________________________________________________________________________________\n",
            "__________________________________________________________________________________________________\n",
            "Layer (type)                    Output Shape         Param #     Connected to                     \n",
            "==================================================================================================\n",
            "input_3 (InputLayer)            (None, 1024)         0                                            \n",
            "__________________________________________________________________________________________________\n",
            "input_4 (InputLayer)            (None, 100)          0                                            \n",
            "__________________________________________________________________________________________________\n",
            "model_3 (Model)                 [(None, 64, 64, 3),  10270400    input_3[0][0]                    \n",
            "                                                                 input_4[0][0]                    \n",
            "__________________________________________________________________________________________________\n",
            "input_5 (InputLayer)            (None, 4, 4, 128)    0                                            \n",
            "__________________________________________________________________________________________________\n",
            "model_4 (Model)                 (None, 1)            3097665     model_3[1][0]                    \n",
            "                                                                 input_5[0][0]                    \n",
            "==================================================================================================\n",
            "Total params: 13,368,065\n",
            "Trainable params: 10,268,480\n",
            "Non-trainable params: 3,099,585\n",
            "__________________________________________________________________________________________________\n"
          ],
          "name": "stdout"
        },
        {
          "output_type": "execute_result",
          "data": {
            "text/plain": [
              "(None, None, None)"
            ]
          },
          "metadata": {
            "tags": []
          },
          "execution_count": 42
        }
      ]
    },
    {
      "cell_type": "code",
      "metadata": {
        "id": "uWAzba2O4U-4",
        "colab_type": "code",
        "colab": {}
      },
      "source": [
        "def training(epochs=1000):\n",
        "  batch=64\n",
        "  for epoch in range(epochs):\n",
        "    for i in range(int(train_imgs.shape[0]/batch)):\n",
        "      noise = np.random.normal(0, 1, size=(batch, 100))\n",
        "      img_batch = train_imgs[i * batch:(i + 1) * batch]\n",
        "      embedd_batch = train_embedd[i * batch:(i + 1) * batch]\n",
        "      img_batch = (img_batch - 127.5) / 127.5\n",
        "    \n",
        "      fake,_=Gen.predict([embedd_batch,noise])\n",
        "    \n",
        "      embedd_disc_add = embedd_disc.predict_on_batch(embedd_batch)\n",
        "      embedd_disc_add = np.reshape(embedd_disc_add, (-1, 1, 1,128))\n",
        "      embedd_disc_add= np.tile(embedd_disc_add, (1, 4, 4, 1))\n",
        "\n",
        "      dis_loss_real = Disc.train_on_batch([img_batch, embedd_disc_add],np.ones((batch,1),dtype='float64'))\n",
        "      dis_loss_fake = Disc.train_on_batch([fake, embedd_disc_add],np.zeros((batch,1),dtype='float64'))\n",
        "      \n",
        "      g_loss=GAN.train_on_batch([embedd_batch,noise, embedd_disc_add],[K.ones((batch, 128)), K.ones((batch, 1))])\n",
        "    \n",
        "    if epoch % 2 == 0:\n",
        "      noise2 = np.random.normal(0, 1, size=(batch, 100))\n",
        "      embedding_batch = test_embedd[0:batch]\n",
        "      fake_images, _ = Gen.predict_on_batch([embedd_batch, noise2])\n",
        "    print(epoch)\n",
        "                                                                                 "
      ],
      "execution_count": 0,
      "outputs": []
    },
    {
      "cell_type": "code",
      "metadata": {
        "id": "cmjz045R-Smv",
        "colab_type": "code",
        "colab": {}
      },
      "source": [
        "training()"
      ],
      "execution_count": 0,
      "outputs": []
    },
    {
      "cell_type": "code",
      "metadata": {
        "id": "mqaXzofscCuV",
        "colab_type": "code",
        "colab": {}
      },
      "source": [
        "Gen.save('gen.h5')\n",
        "GAN.save('gan.h5')\n",
        "Disc.save('disc.h5')\n",
        "embedd_gen.save('embedd_gen.h5')\n",
        "embedd_disc.save('embedd_disc.h5')"
      ],
      "execution_count": 0,
      "outputs": []
    },
    {
      "cell_type": "code",
      "metadata": {
        "id": "xSSOLJPWAtfh",
        "colab_type": "code",
        "outputId": "4d09e0ce-7919-4b4b-a704-014ceb6d8821",
        "colab": {
          "base_uri": "https://localhost:8080/",
          "height": 384
        }
      },
      "source": [
        "Gen=load_model('gen.h5')\n",
        "GAN=load_model('gan.h5',custom_objects={'KL_loss':KL_loss})\n",
        "Disc=load_model('disc.h5')\n",
        "embedd_gen=load_model('embedd_gen.h5')\n",
        "embedd_disc=load_model('embedd_disc.h5')"
      ],
      "execution_count": 0,
      "outputs": [
        {
          "output_type": "stream",
          "text": [
            "WARNING: Logging before flag parsing goes to stderr.\n",
            "W0729 05:02:28.919052 140359327553408 deprecation_wrapper.py:119] From /usr/local/lib/python3.6/dist-packages/keras/backend/tensorflow_backend.py:517: The name tf.placeholder is deprecated. Please use tf.compat.v1.placeholder instead.\n",
            "\n",
            "W0729 05:02:28.974695 140359327553408 deprecation_wrapper.py:119] From /usr/local/lib/python3.6/dist-packages/keras/backend/tensorflow_backend.py:4138: The name tf.random_uniform is deprecated. Please use tf.random.uniform instead.\n",
            "\n",
            "W0729 05:02:28.997928 140359327553408 deprecation_wrapper.py:119] From /usr/local/lib/python3.6/dist-packages/keras/backend/tensorflow_backend.py:4115: The name tf.random_normal is deprecated. Please use tf.random.normal instead.\n",
            "\n",
            "W0729 05:02:29.060856 140359327553408 deprecation_wrapper.py:119] From /usr/local/lib/python3.6/dist-packages/keras/backend/tensorflow_backend.py:245: The name tf.get_default_graph is deprecated. Please use tf.compat.v1.get_default_graph instead.\n",
            "\n",
            "W0729 05:02:29.061740 140359327553408 deprecation_wrapper.py:119] From /usr/local/lib/python3.6/dist-packages/keras/backend/tensorflow_backend.py:174: The name tf.get_default_session is deprecated. Please use tf.compat.v1.get_default_session instead.\n",
            "\n",
            "W0729 05:02:31.993831 140359327553408 deprecation_wrapper.py:119] From /usr/local/lib/python3.6/dist-packages/keras/backend/tensorflow_backend.py:1834: The name tf.nn.fused_batch_norm is deprecated. Please use tf.compat.v1.nn.fused_batch_norm instead.\n",
            "\n",
            "W0729 05:02:35.490147 140359327553408 deprecation_wrapper.py:119] From /usr/local/lib/python3.6/dist-packages/keras/optimizers.py:790: The name tf.train.Optimizer is deprecated. Please use tf.compat.v1.train.Optimizer instead.\n",
            "\n",
            "W0729 05:02:40.721233 140359327553408 deprecation.py:323] From /usr/local/lib/python3.6/dist-packages/tensorflow/python/ops/nn_impl.py:180: add_dispatch_support.<locals>.wrapper (from tensorflow.python.ops.array_ops) is deprecated and will be removed in a future version.\n",
            "Instructions for updating:\n",
            "Use tf.where in 2.0, which has the same broadcast rule as np.where\n",
            "/usr/local/lib/python3.6/dist-packages/keras/engine/saving.py:327: UserWarning: Error in loading the saved optimizer state. As a result, your model is starting with a freshly initialized optimizer.\n",
            "  warnings.warn('Error in loading the saved optimizer '\n"
          ],
          "name": "stderr"
        }
      ]
    },
    {
      "cell_type": "code",
      "metadata": {
        "id": "6ziVuFW5_KJN",
        "colab_type": "code",
        "colab": {}
      },
      "source": [
        ""
      ],
      "execution_count": 0,
      "outputs": []
    }
  ]
}